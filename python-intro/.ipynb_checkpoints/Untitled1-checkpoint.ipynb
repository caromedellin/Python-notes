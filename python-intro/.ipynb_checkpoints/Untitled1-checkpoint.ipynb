{
 "cells": [
  {
   "cell_type": "markdown",
   "metadata": {},
   "source": [
    "# APIs\n",
    "There are a few cases when a data set isn't a good enough solution.\n",
    "An Application Program Interface API is an alternative, it allows you to dinamically query andretrive data"
   ]
  },
  {
   "cell_type": "code",
   "execution_count": 1,
   "metadata": {
    "collapsed": true
   },
   "outputs": [],
   "source": [
    "import csv\n",
    "import requests"
   ]
  },
  {
   "cell_type": "markdown",
   "metadata": {
    "collapsed": true
   },
   "source": [
    "## Status Codes\n",
    "200 -- everything went okay, and the result has been returned (if any)\n",
    "301 -- the server is redirecting you to a different endpoint. This can happen when a company switches domain names, or an endpoint name is changed.\n",
    "401 -- the server thinks you're not authenticated. This happens when you don't send the right credentials to access an API (we'll talk about this in a later mission).\n",
    "400 -- the server thinks you made a bad request. This can happen when you don't send along the right data, among other things.\n",
    "403 -- the resource you're trying to access is forbidden -- you don't have the right permissions to see it.\n",
    "404 -- the resource you tried to access wasn't found on the server."
   ]
  },
  {
   "cell_type": "code",
   "execution_count": null,
   "metadata": {
    "collapsed": true
   },
   "outputs": [],
   "source": [
    "response = requests.get(\"http://api.open-notify.org/iss-now.json\")\n",
    "response.status_code"
   ]
  },
  {
   "cell_type": "markdown",
   "metadata": {},
   "source": [
    "## Query Parameters\n",
    "A 400 status code indicates a bad request, in this case it means that we need to add some parameters to the request."
   ]
  },
  {
   "cell_type": "code",
   "execution_count": 3,
   "metadata": {
    "collapsed": false
   },
   "outputs": [
    {
     "name": "stdout",
     "output_type": "stream",
     "text": [
      "{\n",
      "  \"message\": \"success\", \n",
      "  \"request\": {\n",
      "    \"altitude\": 100, \n",
      "    \"datetime\": 1461270432, \n",
      "    \"latitude\": 40.71, \n",
      "    \"longitude\": -74.0, \n",
      "    \"passes\": 5\n",
      "  }, \n",
      "  \"response\": [\n",
      "    {\n",
      "      \"duration\": 628, \n",
      "      \"risetime\": 1461275305\n",
      "    }, \n",
      "    {\n",
      "      \"duration\": 605, \n",
      "      \"risetime\": 1461281099\n",
      "    }, \n",
      "    {\n",
      "      \"duration\": 522, \n",
      "      \"risetime\": 1461335341\n",
      "    }, \n",
      "    {\n",
      "      \"duration\": 640, \n",
      "      \"risetime\": 1461341044\n",
      "    }, \n",
      "    {\n",
      "      \"duration\": 583, \n",
      "      \"risetime\": 1461346886\n",
      "    }\n",
      "  ]\n",
      "}\n",
      "{\n",
      "  \"message\": \"success\", \n",
      "  \"request\": {\n",
      "    \"altitude\": 100, \n",
      "    \"datetime\": 1461270432, \n",
      "    \"latitude\": 40.71, \n",
      "    \"longitude\": -74.0, \n",
      "    \"passes\": 5\n",
      "  }, \n",
      "  \"response\": [\n",
      "    {\n",
      "      \"duration\": 628, \n",
      "      \"risetime\": 1461275305\n",
      "    }, \n",
      "    {\n",
      "      \"duration\": 605, \n",
      "      \"risetime\": 1461281099\n",
      "    }, \n",
      "    {\n",
      "      \"duration\": 522, \n",
      "      \"risetime\": 1461335341\n",
      "    }, \n",
      "    {\n",
      "      \"duration\": 640, \n",
      "      \"risetime\": 1461341044\n",
      "    }, \n",
      "    {\n",
      "      \"duration\": 583, \n",
      "      \"risetime\": 1461346886\n",
      "    }\n",
      "  ]\n",
      "}\n"
     ]
    }
   ],
   "source": [
    "# Set up the parameters we want to pass to the API.\n",
    "# This is the latitude and longitude of New York City.\n",
    "parameters = {\"lat\": 40.71, \"lon\": -74}\n",
    "\n",
    "# Make a get request with the parameters.\n",
    "response = requests.get(\"http://api.open-notify.org/iss-pass.json\", params=parameters)\n",
    "\n",
    "# Print the content of the response (the data the server returned)\n",
    "print(response.content)\n",
    "\n",
    "# This gets the same data as the command above\n",
    "response = requests.get(\"http://api.open-notify.org/iss-pass.json?lat=40.71&lon=-74\")\n",
    "print(response.content)"
   ]
  },
  {
   "cell_type": "markdown",
   "metadata": {},
   "source": [
    "## JSON format\n",
    "Forcing everithing in to JSON\n",
    "JavaScript Object Notation is teh way to encode data structures, like lists and dictionaries JSON is the primary format in which informaton is passed in applications.\n",
    "Python has great support with the JSON librarie and converts lists to string and to dictionaries.\n",
    "The json library has two main methods:\n",
    "\n",
    "dumps -- Takes in a Python object, and converts it to a string.\n",
    "loads -- Takes a json string, and converts it to a Python object.\n"
   ]
  }
 ],
 "metadata": {
  "kernelspec": {
   "display_name": "Python 2",
   "language": "python",
   "name": "python2"
  },
  "language_info": {
   "codemirror_mode": {
    "name": "ipython",
    "version": 2
   },
   "file_extension": ".py",
   "mimetype": "text/x-python",
   "name": "python",
   "nbconvert_exporter": "python",
   "pygments_lexer": "ipython2",
   "version": "2.7.11"
  }
 },
 "nbformat": 4,
 "nbformat_minor": 0
}

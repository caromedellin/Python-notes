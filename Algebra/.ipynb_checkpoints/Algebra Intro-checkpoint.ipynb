{
 "cells": [
  {
   "cell_type": "markdown",
   "metadata": {},
   "source": [
    "# Algebra Intro\n",
    "\n",
    "## Vector magnitude and direction\n",
    "\n",
    "R es el espacio en el que viven los vectores, el exponente es la dimensión, se refiere a todas las tuplas de valores reales posibles. Lo bueno de esta notación es que no nos tenemos que detener en ninguna dimensión aunque sea dificil de graficar.\n",
    "Rn - n dimensiones en el espacio de coordenadas reales.\n",
    "En un plano grafico los vectores pueden iniciar en cualquier posición, lo importante realmente es su magnitud y su dirección.\n",
    "\n"
   ]
  },
  {
   "cell_type": "code",
   "execution_count": null,
   "metadata": {
    "collapsed": true
   },
   "outputs": [],
   "source": [
    "import numpy as np"
   ]
  }
 ],
 "metadata": {
  "kernelspec": {
   "display_name": "Python 2",
   "language": "python",
   "name": "python2"
  },
  "language_info": {
   "codemirror_mode": {
    "name": "ipython",
    "version": 2
   },
   "file_extension": ".py",
   "mimetype": "text/x-python",
   "name": "python",
   "nbconvert_exporter": "python",
   "pygments_lexer": "ipython2",
   "version": "2.7.11"
  }
 },
 "nbformat": 4,
 "nbformat_minor": 0
}

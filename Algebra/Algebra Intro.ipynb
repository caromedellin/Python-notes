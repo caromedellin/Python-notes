{
 "cells": [
  {
   "cell_type": "markdown",
   "metadata": {},
   "source": [
    "# Algebra Intro\n",
    "\n",
    "## Vector magnitude and direction\n",
    "\n",
    "R es el espacio en el que viven los vectores, el exponente es la dimensión, se refiere a todas las tuplas de valores reales posibles. Lo bueno de esta notación es que no nos tenemos que detener en ninguna dimensión aunque sea dificil de graficar.\n",
    "Rn - n dimensiones en el espacio de coordenadas reales.\n",
    "En un plano grafico los vectores pueden iniciar en cualquier posición, lo importante realmente es su magnitud y su dirección.\n",
    "\n"
   ]
  },
  {
   "cell_type": "code",
   "execution_count": 1,
   "metadata": {
    "collapsed": true
   },
   "outputs": [],
   "source": [
    "import numpy as np"
   ]
  },
  {
   "cell_type": "code",
   "execution_count": 2,
   "metadata": {
    "collapsed": false
   },
   "outputs": [
    {
     "name": "stdout",
     "output_type": "stream",
     "text": [
      "[90 60 90]\n"
     ]
    }
   ],
   "source": [
    "my_first_vector = np.array([90,60,90])\n",
    "print my_first_vector"
   ]
  },
  {
   "cell_type": "markdown",
   "metadata": {},
   "source": [
    "## Adding Vectors\n",
    "La suma de vectores basicamente calcula distancia entre los vectores, como el camino que tendrías que caminar si fueras de punta a punta de un vector"
   ]
  },
  {
   "cell_type": "code",
   "execution_count": null,
   "metadata": {
    "collapsed": true
   },
   "outputs": [],
   "source": [
    "my_second_vector = np.array([0.9,1.2,1.2])\n",
    "distance = my_first_vector -"
   ]
  }
 ],
 "metadata": {
  "kernelspec": {
   "display_name": "Python 2",
   "language": "python",
   "name": "python2"
  },
  "language_info": {
   "codemirror_mode": {
    "name": "ipython",
    "version": 2
   },
   "file_extension": ".py",
   "mimetype": "text/x-python",
   "name": "python",
   "nbconvert_exporter": "python",
   "pygments_lexer": "ipython2",
   "version": "2.7.11"
  }
 },
 "nbformat": 4,
 "nbformat_minor": 0
}

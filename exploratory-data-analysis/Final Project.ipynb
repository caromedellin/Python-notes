{
 "cells": [
  {
   "cell_type": "markdown",
   "metadata": {},
   "source": [
    "# Congress Words"
   ]
  },
  {
   "cell_type": "code",
   "execution_count": 1,
   "metadata": {
    "collapsed": true
   },
   "outputs": [],
   "source": [
    "import pandas as pd\n",
    "import numpy as np"
   ]
  },
  {
   "cell_type": "code",
   "execution_count": 27,
   "metadata": {
    "collapsed": false
   },
   "outputs": [
    {
     "data": {
      "text/html": [
       "<div>\n",
       "<table border=\"1\" class=\"dataframe\">\n",
       "  <thead>\n",
       "    <tr style=\"text-align: right;\">\n",
       "      <th></th>\n",
       "      <th>title</th>\n",
       "      <th>firstname</th>\n",
       "      <th>middlename</th>\n",
       "      <th>lastname</th>\n",
       "      <th>name_suffix</th>\n",
       "      <th>nickname</th>\n",
       "      <th>party</th>\n",
       "      <th>state</th>\n",
       "      <th>district</th>\n",
       "      <th>in_office</th>\n",
       "      <th>...</th>\n",
       "      <th>govtrack_id</th>\n",
       "      <th>crp_id</th>\n",
       "      <th>twitter_id</th>\n",
       "      <th>congresspedia_url</th>\n",
       "      <th>youtube_url</th>\n",
       "      <th>facebook_id</th>\n",
       "      <th>official_rss</th>\n",
       "      <th>senate_class</th>\n",
       "      <th>birthdate</th>\n",
       "      <th>oc_email</th>\n",
       "    </tr>\n",
       "  </thead>\n",
       "  <tbody>\n",
       "    <tr>\n",
       "      <th>0</th>\n",
       "      <td>Rep</td>\n",
       "      <td>Neil</td>\n",
       "      <td>NaN</td>\n",
       "      <td>Abercrombie</td>\n",
       "      <td>NaN</td>\n",
       "      <td>NaN</td>\n",
       "      <td>D</td>\n",
       "      <td>HI</td>\n",
       "      <td>1</td>\n",
       "      <td>0</td>\n",
       "      <td>...</td>\n",
       "      <td>400001</td>\n",
       "      <td>N00007665</td>\n",
       "      <td>neilabercrombie</td>\n",
       "      <td>http://www.opencongress.org/wiki/Neil_Abercrombie</td>\n",
       "      <td>http://youtube.com/hawaiirep1</td>\n",
       "      <td>NaN</td>\n",
       "      <td>NaN</td>\n",
       "      <td>NaN</td>\n",
       "      <td>1938-06-26</td>\n",
       "      <td>NaN</td>\n",
       "    </tr>\n",
       "    <tr>\n",
       "      <th>1</th>\n",
       "      <td>Rep</td>\n",
       "      <td>Gary</td>\n",
       "      <td>L.</td>\n",
       "      <td>Ackerman</td>\n",
       "      <td>NaN</td>\n",
       "      <td>NaN</td>\n",
       "      <td>D</td>\n",
       "      <td>NY</td>\n",
       "      <td>5</td>\n",
       "      <td>0</td>\n",
       "      <td>...</td>\n",
       "      <td>400003</td>\n",
       "      <td>N00001143</td>\n",
       "      <td>repgaryackerman</td>\n",
       "      <td>http://www.opencongress.org/wiki/Gary_Ackerman</td>\n",
       "      <td>http://youtube.com/RepAckerman</td>\n",
       "      <td>RepAcherman</td>\n",
       "      <td>NaN</td>\n",
       "      <td>NaN</td>\n",
       "      <td>1942-11-19</td>\n",
       "      <td>NaN</td>\n",
       "    </tr>\n",
       "    <tr>\n",
       "      <th>2</th>\n",
       "      <td>Rep</td>\n",
       "      <td>Robert</td>\n",
       "      <td>B.</td>\n",
       "      <td>Aderholt</td>\n",
       "      <td>NaN</td>\n",
       "      <td>NaN</td>\n",
       "      <td>R</td>\n",
       "      <td>AL</td>\n",
       "      <td>4</td>\n",
       "      <td>1</td>\n",
       "      <td>...</td>\n",
       "      <td>400004</td>\n",
       "      <td>N00003028</td>\n",
       "      <td>Robert_Aderholt</td>\n",
       "      <td>http://www.opencongress.org/wiki/Robert_Aderholt</td>\n",
       "      <td>http://youtube.com/RobertAderholt</td>\n",
       "      <td>19787529402</td>\n",
       "      <td>NaN</td>\n",
       "      <td>NaN</td>\n",
       "      <td>1965-07-22</td>\n",
       "      <td>Rep.Aderholt@opencongress.org</td>\n",
       "    </tr>\n",
       "    <tr>\n",
       "      <th>3</th>\n",
       "      <td>Sen</td>\n",
       "      <td>Daniel</td>\n",
       "      <td>Kahikina</td>\n",
       "      <td>Akaka</td>\n",
       "      <td>NaN</td>\n",
       "      <td>NaN</td>\n",
       "      <td>D</td>\n",
       "      <td>HI</td>\n",
       "      <td>Junior Seat</td>\n",
       "      <td>0</td>\n",
       "      <td>...</td>\n",
       "      <td>300001</td>\n",
       "      <td>N00007653</td>\n",
       "      <td>NaN</td>\n",
       "      <td>http://www.opencongress.org/wiki/Daniel_Akaka</td>\n",
       "      <td>http://youtube.com/senatorakaka</td>\n",
       "      <td>danielakaka</td>\n",
       "      <td>NaN</td>\n",
       "      <td>I</td>\n",
       "      <td>1924-09-11</td>\n",
       "      <td>NaN</td>\n",
       "    </tr>\n",
       "    <tr>\n",
       "      <th>4</th>\n",
       "      <td>Sen</td>\n",
       "      <td>Wayne</td>\n",
       "      <td>A.</td>\n",
       "      <td>Allard</td>\n",
       "      <td>NaN</td>\n",
       "      <td>NaN</td>\n",
       "      <td>R</td>\n",
       "      <td>CO</td>\n",
       "      <td>Senior Seat</td>\n",
       "      <td>0</td>\n",
       "      <td>...</td>\n",
       "      <td>300003</td>\n",
       "      <td>N00009082</td>\n",
       "      <td>NaN</td>\n",
       "      <td>http://www.opencongress.org/wiki/Wayne_Allard</td>\n",
       "      <td>NaN</td>\n",
       "      <td>NaN</td>\n",
       "      <td>NaN</td>\n",
       "      <td>II</td>\n",
       "      <td>1943-12-02</td>\n",
       "      <td>NaN</td>\n",
       "    </tr>\n",
       "  </tbody>\n",
       "</table>\n",
       "<p>5 rows × 29 columns</p>\n",
       "</div>"
      ],
      "text/plain": [
       "  title firstname middlename     lastname name_suffix nickname party state  \\\n",
       "0   Rep      Neil        NaN  Abercrombie         NaN      NaN     D    HI   \n",
       "1   Rep      Gary         L.     Ackerman         NaN      NaN     D    NY   \n",
       "2   Rep    Robert         B.     Aderholt         NaN      NaN     R    AL   \n",
       "3   Sen    Daniel   Kahikina        Akaka         NaN      NaN     D    HI   \n",
       "4   Sen     Wayne         A.       Allard         NaN      NaN     R    CO   \n",
       "\n",
       "      district  in_office              ...               govtrack_id  \\\n",
       "0            1          0              ...                    400001   \n",
       "1            5          0              ...                    400003   \n",
       "2            4          1              ...                    400004   \n",
       "3  Junior Seat          0              ...                    300001   \n",
       "4  Senior Seat          0              ...                    300003   \n",
       "\n",
       "      crp_id       twitter_id  \\\n",
       "0  N00007665  neilabercrombie   \n",
       "1  N00001143  repgaryackerman   \n",
       "2  N00003028  Robert_Aderholt   \n",
       "3  N00007653              NaN   \n",
       "4  N00009082              NaN   \n",
       "\n",
       "                                   congresspedia_url  \\\n",
       "0  http://www.opencongress.org/wiki/Neil_Abercrombie   \n",
       "1     http://www.opencongress.org/wiki/Gary_Ackerman   \n",
       "2   http://www.opencongress.org/wiki/Robert_Aderholt   \n",
       "3      http://www.opencongress.org/wiki/Daniel_Akaka   \n",
       "4      http://www.opencongress.org/wiki/Wayne_Allard   \n",
       "\n",
       "                         youtube_url  facebook_id official_rss  senate_class  \\\n",
       "0      http://youtube.com/hawaiirep1          NaN          NaN           NaN   \n",
       "1     http://youtube.com/RepAckerman  RepAcherman          NaN           NaN   \n",
       "2  http://youtube.com/RobertAderholt  19787529402          NaN           NaN   \n",
       "3    http://youtube.com/senatorakaka  danielakaka          NaN             I   \n",
       "4                                NaN          NaN          NaN            II   \n",
       "\n",
       "    birthdate                       oc_email  \n",
       "0  1938-06-26                            NaN  \n",
       "1  1942-11-19                            NaN  \n",
       "2  1965-07-22  Rep.Aderholt@opencongress.org  \n",
       "3  1924-09-11                            NaN  \n",
       "4  1943-12-02                            NaN  \n",
       "\n",
       "[5 rows x 29 columns]"
      ]
     },
     "execution_count": 27,
     "metadata": {},
     "output_type": "execute_result"
    }
   ],
   "source": [
    "legislatorsData = pd.read_csv(\"../data/legislators.csv\")\n",
    "congress = pd.DataFrame(legislatorsData)\n",
    "legislatorsData.head()"
   ]
  },
  {
   "cell_type": "code",
   "execution_count": 28,
   "metadata": {
    "collapsed": false
   },
   "outputs": [
    {
     "data": {
      "text/plain": [
       "['title',\n",
       " 'firstname',\n",
       " 'middlename',\n",
       " 'lastname',\n",
       " 'name_suffix',\n",
       " 'nickname',\n",
       " 'party',\n",
       " 'state',\n",
       " 'district',\n",
       " 'in_office',\n",
       " 'gender',\n",
       " 'phone',\n",
       " 'fax',\n",
       " 'website',\n",
       " 'webform',\n",
       " 'congress_office',\n",
       " 'bioguide_id',\n",
       " 'votesmart_id',\n",
       " 'fec_id',\n",
       " 'govtrack_id',\n",
       " 'crp_id',\n",
       " 'twitter_id',\n",
       " 'congresspedia_url',\n",
       " 'youtube_url',\n",
       " 'facebook_id',\n",
       " 'official_rss',\n",
       " 'senate_class',\n",
       " 'birthdate',\n",
       " 'oc_email']"
      ]
     },
     "execution_count": 28,
     "metadata": {},
     "output_type": "execute_result"
    }
   ],
   "source": [
    "congress.columns.tolist()"
   ]
  },
  {
   "cell_type": "code",
   "execution_count": null,
   "metadata": {
    "collapsed": false
   },
   "outputs": [],
   "source": []
  },
  {
   "cell_type": "markdown",
   "metadata": {},
   "source": [
    "## API call\n",
    "I used the bioGuide id to retrive the words"
   ]
  },
  {
   "cell_type": "code",
   "execution_count": 30,
   "metadata": {
    "collapsed": false
   },
   "outputs": [
    {
     "name": "stdout",
     "output_type": "stream",
     "text": [
      "['A000014', 'A000022', 'A000055', 'A000069', 'A000109', 'A000210', 'A000357', 'A000358', 'A000360', 'A000361']\n"
     ]
    }
   ],
   "source": [
    "l_bioGuides = congress.bioguide_id.tolist()\n",
    "print l_bioGuides[:10]"
   ]
  },
  {
   "cell_type": "markdown",
   "metadata": {},
   "source": [
    "### API call method it can be tweeked to scrape other data:"
   ]
  },
  {
   "cell_type": "code",
   "execution_count": 34,
   "metadata": {
    "collapsed": false
   },
   "outputs": [],
   "source": [
    "from urllib2 import Request, urlopen\n",
    "import json\n",
    "from pandas.io.json import json_normalize\n",
    "def requestWords( id ):\n",
    "\n",
    "    id = str(id)\n",
    "    url = \"http://capitolwords.org/api/1/phrases.json?entity_type=legislator&entity_value=\"+id+\"&apikey=0bf8e7eb6ce146f48217bfee767c998d\"\n",
    "    request=Request(url)\n",
    "    response = urlopen(request)\n",
    "    contents = response.read()\n",
    "    len(contents)\n",
    "    if len(contents) > 2:\n",
    "        data = json.loads(contents)\n",
    "        words = json_normalize(data)\n",
    "        list_of_words = words.ngram.tolist()\n",
    "        string_of_words =\"|\".join(list_of_words)\n",
    "        return string_of_words\n",
    "    else:\n",
    "        return np.nan"
   ]
  },
  {
   "cell_type": "code",
   "execution_count": 35,
   "metadata": {
    "collapsed": false
   },
   "outputs": [],
   "source": [
    "congress['favorite_words'] = congress.apply(lambda row: requestWords(row['bioguide_id']),axis=1)"
   ]
  },
  {
   "cell_type": "code",
   "execution_count": 36,
   "metadata": {
    "collapsed": false
   },
   "outputs": [
    {
     "data": {
      "text/plain": [
       "0     hawaiian|hawaii|hawaiians|hawaii's|kalaupapa|e...\n",
       "1     queens|rabbi|jewish|bayside|flushing|nassau|br...\n",
       "2     aderholt|requesting|irons|huntsville|alabama|r...\n",
       "3     hawaii's|hawaii|hawaiians|hawaiian|dsh|va|fas|...\n",
       "4     colorado|flats|missile|rocky|colorado's|denver...\n",
       "5     camden|gloucester|cyprus|rutgers|opic|jersey|p...\n",
       "6     mercury|maine|prescription|pharmaceutical|drug...\n",
       "7     freddie|morgenthau|fannie|you've|pilgrims|mayf...\n",
       "8     tennesseans|carbon-free|tennessee|electricity|...\n",
       "9     rodney|baton|rouge|lsu|louisiana|la|ruston|req...\n",
       "10    murphy|drill|pittsburgh|altmire|sbir|oil|anwr|...\n",
       "11    upstate|herkimer|utica|tay-sachs|suny|cybersec...\n",
       "12    nj|2009|objection|army|minutes|recognized|6|se...\n",
       "13    fairborn|ohio's|xenia|gire|wright-patterson|wa...\n",
       "14    endeavour|skyler|meanings|shuttle|eagle|scout|...\n",
       "15    foia|8015|aumf|government-set|davis-bacon|1034...\n",
       "16    hampshire|guantanamo|timberland|gitmo|detainin...\n",
       "17                                                  NaN\n",
       "18    alean|brock|gantt|anderton|calvin's|sickle|cal...\n",
       "19                                                  NaN\n",
       "Name: favorite_words, dtype: object"
      ]
     },
     "execution_count": 36,
     "metadata": {},
     "output_type": "execute_result"
    }
   ],
   "source": [
    "congress.favorite_words.head(20)"
   ]
  },
  {
   "cell_type": "code",
   "execution_count": 22,
   "metadata": {
    "collapsed": false
   },
   "outputs": [],
   "source": []
  },
  {
   "cell_type": "code",
   "execution_count": null,
   "metadata": {
    "collapsed": false
   },
   "outputs": [],
   "source": []
  }
 ],
 "metadata": {
  "kernelspec": {
   "display_name": "Python 2",
   "language": "python",
   "name": "python2"
  },
  "language_info": {
   "codemirror_mode": {
    "name": "ipython",
    "version": 2
   },
   "file_extension": ".py",
   "mimetype": "text/x-python",
   "name": "python",
   "nbconvert_exporter": "python",
   "pygments_lexer": "ipython2",
   "version": "2.7.11"
  }
 },
 "nbformat": 4,
 "nbformat_minor": 0
}

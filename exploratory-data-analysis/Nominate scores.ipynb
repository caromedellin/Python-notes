{
 "cells": [
  {
   "cell_type": "markdown",
   "metadata": {},
   "source": [
    "# Vote view congressional data\n",
    "Vote view nominate scores updates\n",
    "Weekly Update of \"Common Space\" DW-NOMINATE Scores\n"
   ]
  },
  {
   "cell_type": "code",
   "execution_count": 1,
   "metadata": {
    "collapsed": true
   },
   "outputs": [],
   "source": [
    "import pandas as pd\n",
    "import numpy as np\n",
    "from urllib2 import Request, urlopen"
   ]
  },
  {
   "cell_type": "code",
   "execution_count": 2,
   "metadata": {
    "collapsed": true
   },
   "outputs": [],
   "source": [
    "data_url = \"http://voteview.uga.edu/ftp/junkord/HANDSL01114A20_STAND_ALONE_23.DAT\""
   ]
  },
  {
   "cell_type": "code",
   "execution_count": 3,
   "metadata": {
    "collapsed": true
   },
   "outputs": [],
   "source": [
    "request=Request(data_url)\n",
    "response = urlopen(request)\n",
    "contents = response.read()"
   ]
  },
  {
   "cell_type": "code",
   "execution_count": 209,
   "metadata": {
    "collapsed": false
   },
   "outputs": [],
   "source": [
    "import csv\n",
    "import requests\n",
    "\n",
    "r = requests.get('http://voteview.uga.edu/ftp/junkord/HANDSL01114A20_STAND_ALONE_23.DAT') \n",
    "data = [row for row in r.iter_lines()]\n"
   ]
  },
  {
   "cell_type": "code",
   "execution_count": 182,
   "metadata": {
    "collapsed": true
   },
   "outputs": [],
   "source": [
    "columns = [ \"congress_number\", \"icpsr\" , \"state_code\" , \"congressional_district_number\" , \"state_name\" , \"party_code\" , \"name\" , \"1st_dimension_coordinate\" , \"2nd_dimension_coordinate\" ,\"log_likelihood\" ,\"number_votes\" , \"number_of_classification_errors\", \"geometric_mean_probability\"]"
   ]
  },
  {
   "cell_type": "code",
   "execution_count": 253,
   "metadata": {
    "collapsed": false
   },
   "outputs": [
    {
     "name": "stdout",
     "output_type": "stream",
     "text": [
      "13\n"
     ]
    }
   ],
   "source": [
    "print len(columns)\n",
    "\n",
    "def data_clean(data):\n",
    "    new_data = []\n",
    "    for line in data:\n",
    "        line = line.split(\" \")\n",
    "        line = filter(None, line)\n",
    "        if len((line[3]))>=2:\n",
    "            line[2][:-1]\n",
    "            line.insert( 3, line[2][2:])\n",
    "            line[2] = line[2][:-1]\n",
    "        if line[4] ==\"NEW\" or line[4]==\"WEST\" or line[4] ==\"RHODE\" or line[4]==\"SOUTH\":\n",
    "            line[4] = line[4] + ' '+line[5]\n",
    "            line.pop(5)\n",
    "        if len(line[7])<3:\n",
    "            line[6]= line[6] +' '+line[7]\n",
    "            line.pop(7)\n",
    "        new_data.append(line)\n",
    "    return new_data"
   ]
  },
  {
   "cell_type": "code",
   "execution_count": 254,
   "metadata": {
    "collapsed": false
   },
   "outputs": [
    {
     "name": "stdout",
     "output_type": "stream",
     "text": [
      "value at 11\n",
      "13\n"
     ]
    },
    {
     "data": {
      "text/plain": [
       "13"
      ]
     },
     "execution_count": 254,
     "metadata": {},
     "output_type": "execute_result"
    }
   ],
   "source": [
    "clean_data_list = data_clean(data)\n",
    "len(clean_data_list[1])\n",
    "print\"value at\", clean_data_list[5][2]\n",
    "print len(clean_data_list[0])\n",
    "len(clean_data_list[5])"
   ]
  },
  {
   "cell_type": "code",
   "execution_count": 255,
   "metadata": {
    "collapsed": false
   },
   "outputs": [
    {
     "name": "stdout",
     "output_type": "stream",
     "text": [
      "4000\n",
      "5\n"
     ]
    }
   ],
   "source": [
    "single_example = clean_data_list[12]\n",
    "print single_example[5]\n",
    "type(single_example[5])\n",
    "#single_example[4]==\"NEW\" or single_example[4]==\"NEW\" or single_example[4]==\"WEST\" ==\"RHODE\" ==\"SOUTH\"\n",
    "str = single_example[1]+' '+single_example[2]\n",
    "print len(single_example[7])\n"
   ]
  },
  {
   "cell_type": "code",
   "execution_count": 302,
   "metadata": {
    "collapsed": false
   },
   "outputs": [],
   "source": [
    "len(clean_data_list)\n",
    "nominate_scores = pd.DataFrame(clean_data_list)        "
   ]
  },
  {
   "cell_type": "code",
   "execution_count": 303,
   "metadata": {
    "collapsed": false
   },
   "outputs": [],
   "source": [
    "nominate_scores = nominate_scores.ix[:,:12]"
   ]
  },
  {
   "cell_type": "code",
   "execution_count": 313,
   "metadata": {
    "collapsed": false
   },
   "outputs": [
    {
     "name": "stderr",
     "output_type": "stream",
     "text": [
      "/usr/local/lib/python2.7/site-packages/ipykernel/__main__.py:2: FutureWarning: convert_objects is deprecated.  Use the data-type specific converters pd.to_datetime, pd.to_timedelta and pd.to_numeric.\n",
      "  from ipykernel import kernelapp as app\n"
     ]
    }
   ],
   "source": [
    "nominate_scores.columns = columns\n",
    "nominates_scores = nominate_scores.ix[:, nominate_scores.columns != 'name'].convert_objects(convert_numeric=True)"
   ]
  },
  {
   "cell_type": "code",
   "execution_count": 326,
   "metadata": {
    "collapsed": false
   },
   "outputs": [
    {
     "data": {
      "text/html": [
       "<div>\n",
       "<table border=\"1\" class=\"dataframe\">\n",
       "  <thead>\n",
       "    <tr style=\"text-align: right;\">\n",
       "      <th></th>\n",
       "      <th>congress_number</th>\n",
       "      <th>icpsr</th>\n",
       "      <th>state_code</th>\n",
       "      <th>congressional_district_number</th>\n",
       "      <th>state_name</th>\n",
       "      <th>party_code</th>\n",
       "      <th>1st_dimension_coordinate</th>\n",
       "      <th>2nd_dimension_coordinate</th>\n",
       "      <th>log_likelihood</th>\n",
       "      <th>number_votes</th>\n",
       "      <th>number_of_classification_errors</th>\n",
       "      <th>geometric_mean_probability</th>\n",
       "      <th>name</th>\n",
       "    </tr>\n",
       "  </thead>\n",
       "  <tbody>\n",
       "    <tr>\n",
       "      <th>0</th>\n",
       "      <td>1</td>\n",
       "      <td>9062</td>\n",
       "      <td>19</td>\n",
       "      <td>8</td>\n",
       "      <td>CONNECT</td>\n",
       "      <td>5000.0</td>\n",
       "      <td>0.541</td>\n",
       "      <td>0.444</td>\n",
       "      <td>-25.62408</td>\n",
       "      <td>80.0</td>\n",
       "      <td>13.0</td>\n",
       "      <td>0.726</td>\n",
       "      <td>STURGES</td>\n",
       "    </tr>\n",
       "    <tr>\n",
       "      <th>1</th>\n",
       "      <td>1</td>\n",
       "      <td>9706</td>\n",
       "      <td>19</td>\n",
       "      <td>8</td>\n",
       "      <td>CONNECT</td>\n",
       "      <td>5000.0</td>\n",
       "      <td>0.745</td>\n",
       "      <td>0.176</td>\n",
       "      <td>-16.39512</td>\n",
       "      <td>86.0</td>\n",
       "      <td>5.0</td>\n",
       "      <td>0.826</td>\n",
       "      <td>WADSWORTH</td>\n",
       "    </tr>\n",
       "    <tr>\n",
       "      <th>2</th>\n",
       "      <td>1</td>\n",
       "      <td>8457</td>\n",
       "      <td>19</td>\n",
       "      <td>8</td>\n",
       "      <td>CONNECT</td>\n",
       "      <td>5000.0</td>\n",
       "      <td>0.594</td>\n",
       "      <td>0.296</td>\n",
       "      <td>-40.40777</td>\n",
       "      <td>107.0</td>\n",
       "      <td>18.0</td>\n",
       "      <td>0.685</td>\n",
       "      <td>SHERMAN</td>\n",
       "    </tr>\n",
       "    <tr>\n",
       "      <th>3</th>\n",
       "      <td>1</td>\n",
       "      <td>4766</td>\n",
       "      <td>19</td>\n",
       "      <td>8</td>\n",
       "      <td>CONNECT</td>\n",
       "      <td>5000.0</td>\n",
       "      <td>0.639</td>\n",
       "      <td>0.282</td>\n",
       "      <td>-28.80767</td>\n",
       "      <td>84.0</td>\n",
       "      <td>12.0</td>\n",
       "      <td>0.710</td>\n",
       "      <td>HUNTINGTON</td>\n",
       "    </tr>\n",
       "    <tr>\n",
       "      <th>4</th>\n",
       "      <td>1</td>\n",
       "      <td>9489</td>\n",
       "      <td>19</td>\n",
       "      <td>8</td>\n",
       "      <td>CONNECT</td>\n",
       "      <td>5000.0</td>\n",
       "      <td>0.694</td>\n",
       "      <td>0.228</td>\n",
       "      <td>-30.44611</td>\n",
       "      <td>106.0</td>\n",
       "      <td>11.0</td>\n",
       "      <td>0.750</td>\n",
       "      <td>TRUMBULL</td>\n",
       "    </tr>\n",
       "  </tbody>\n",
       "</table>\n",
       "</div>"
      ],
      "text/plain": [
       "   congress_number  icpsr  state_code  congressional_district_number  \\\n",
       "0                1   9062          19                              8   \n",
       "1                1   9706          19                              8   \n",
       "2                1   8457          19                              8   \n",
       "3                1   4766          19                              8   \n",
       "4                1   9489          19                              8   \n",
       "\n",
       "  state_name  party_code  1st_dimension_coordinate  2nd_dimension_coordinate  \\\n",
       "0    CONNECT      5000.0                     0.541                     0.444   \n",
       "1    CONNECT      5000.0                     0.745                     0.176   \n",
       "2    CONNECT      5000.0                     0.594                     0.296   \n",
       "3    CONNECT      5000.0                     0.639                     0.282   \n",
       "4    CONNECT      5000.0                     0.694                     0.228   \n",
       "\n",
       "   log_likelihood  number_votes  number_of_classification_errors  \\\n",
       "0       -25.62408          80.0                             13.0   \n",
       "1       -16.39512          86.0                              5.0   \n",
       "2       -40.40777         107.0                             18.0   \n",
       "3       -28.80767          84.0                             12.0   \n",
       "4       -30.44611         106.0                             11.0   \n",
       "\n",
       "   geometric_mean_probability        name  \n",
       "0                       0.726     STURGES  \n",
       "1                       0.826   WADSWORTH  \n",
       "2                       0.685     SHERMAN  \n",
       "3                       0.710  HUNTINGTON  \n",
       "4                       0.750    TRUMBULL  "
      ]
     },
     "execution_count": 326,
     "metadata": {},
     "output_type": "execute_result"
    }
   ],
   "source": [
    "nominate_scores.name\n",
    "nominate_scores = pd.concat([nominates_scores,nominate_scores.name], axis=1)\n",
    "nominate_scores.head()"
   ]
  }
 ],
 "metadata": {
  "kernelspec": {
   "display_name": "Python 2",
   "language": "python",
   "name": "python2"
  },
  "language_info": {
   "codemirror_mode": {
    "name": "ipython",
    "version": 2
   },
   "file_extension": ".py",
   "mimetype": "text/x-python",
   "name": "python",
   "nbconvert_exporter": "python",
   "pygments_lexer": "ipython2",
   "version": "2.7.11"
  }
 },
 "nbformat": 4,
 "nbformat_minor": 0
}

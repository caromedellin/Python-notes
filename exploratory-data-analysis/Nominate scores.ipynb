{
 "cells": [
  {
   "cell_type": "markdown",
   "metadata": {},
   "source": [
    "# Vote view congressional data\n",
    "Vote view nominate scores updates\n",
    "Weekly Update of \"Common Space\" DW-NOMINATE Scores\n"
   ]
  },
  {
   "cell_type": "code",
   "execution_count": 1,
   "metadata": {
    "collapsed": true
   },
   "outputs": [],
   "source": [
    "import pandas as pd\n",
    "import numpy as np\n",
    "from urllib2 import Request, urlopen"
   ]
  },
  {
   "cell_type": "code",
   "execution_count": 2,
   "metadata": {
    "collapsed": true
   },
   "outputs": [],
   "source": [
    "data_url = \"http://voteview.uga.edu/ftp/junkord/HANDSL01114A20_STAND_ALONE_23.DAT\""
   ]
  },
  {
   "cell_type": "code",
   "execution_count": 3,
   "metadata": {
    "collapsed": false
   },
   "outputs": [],
   "source": [
    "import csv\n",
    "import requests\n",
    "\n",
    "r = requests.get('http://voteview.uga.edu/ftp/junkord/HANDSL01114A20_STAND_ALONE_23.DAT') \n",
    "data = [row for row in r.iter_lines()]"
   ]
  },
  {
   "cell_type": "code",
   "execution_count": 4,
   "metadata": {
    "collapsed": true
   },
   "outputs": [],
   "source": [
    "columns = [ \"congress_number\", \"icpsr\" , \"state_code\" , \"congressional_district_number\" , \"state_name\" , \"party_code\" , \"name\" , \"1st_dimension_coordinate\" , \"2nd_dimension_coordinate\" ,\"log_likelihood\" ,\"number_votes\" , \"number_of_classification_errors\", \"geometric_mean_probability\"]"
   ]
  },
  {
   "cell_type": "code",
   "execution_count": 5,
   "metadata": {
    "collapsed": false
   },
   "outputs": [],
   "source": [
    "def data_clean(data):\n",
    "    new_data = []\n",
    "    for line in data:\n",
    "        line = line.split(\" \")\n",
    "        line = filter(None, line)\n",
    "        if len((line[3]))>=2:\n",
    "            line[2][:-1]\n",
    "            line.insert( 3, line[2][2:])\n",
    "            line[2] = line[2][:-1]\n",
    "        if line[4] ==\"NEW\" or line[4]==\"WEST\" or line[4] ==\"RHODE\" or line[4]==\"SOUTH\" or line[4]==\"NORTH\":\n",
    "            line[4] = line[4] + ' '+line[5]\n",
    "            line.pop(5)\n",
    "        if len(line[7])<3:\n",
    "            line[6]= line[6] +' '+line[7]\n",
    "            line.pop(7)\n",
    "        new_data.append(line)\n",
    "    return new_data"
   ]
  },
  {
   "cell_type": "code",
   "execution_count": 6,
   "metadata": {
    "collapsed": false
   },
   "outputs": [],
   "source": [
    "clean_data_list = data_clean(data)"
   ]
  },
  {
   "cell_type": "code",
   "execution_count": 7,
   "metadata": {
    "collapsed": false
   },
   "outputs": [],
   "source": [
    "nominate_scores = pd.DataFrame(clean_data_list)        "
   ]
  },
  {
   "cell_type": "code",
   "execution_count": 8,
   "metadata": {
    "collapsed": false
   },
   "outputs": [],
   "source": [
    "nominate_scores = nominate_scores.ix[:,:12]"
   ]
  },
  {
   "cell_type": "code",
   "execution_count": 9,
   "metadata": {
    "collapsed": false
   },
   "outputs": [
    {
     "name": "stderr",
     "output_type": "stream",
     "text": [
      "/usr/local/lib/python2.7/site-packages/ipykernel/__main__.py:2: FutureWarning: convert_objects is deprecated.  Use the data-type specific converters pd.to_datetime, pd.to_timedelta and pd.to_numeric.\n",
      "  from ipykernel import kernelapp as app\n"
     ]
    }
   ],
   "source": [
    "nominate_scores.columns = columns\n",
    "nominates_scores = nominate_scores.ix[:, nominate_scores.columns != 'name'].convert_objects(convert_numeric=True)"
   ]
  },
  {
   "cell_type": "code",
   "execution_count": 10,
   "metadata": {
    "collapsed": false
   },
   "outputs": [
    {
     "data": {
      "text/html": [
       "<div>\n",
       "<table border=\"1\" class=\"dataframe\">\n",
       "  <thead>\n",
       "    <tr style=\"text-align: right;\">\n",
       "      <th></th>\n",
       "      <th>congress_number</th>\n",
       "      <th>icpsr</th>\n",
       "      <th>state_code</th>\n",
       "      <th>congressional_district_number</th>\n",
       "      <th>state_name</th>\n",
       "      <th>party_code</th>\n",
       "      <th>1st_dimension_coordinate</th>\n",
       "      <th>2nd_dimension_coordinate</th>\n",
       "      <th>log_likelihood</th>\n",
       "      <th>number_votes</th>\n",
       "      <th>number_of_classification_errors</th>\n",
       "      <th>geometric_mean_probability</th>\n",
       "      <th>name</th>\n",
       "    </tr>\n",
       "  </thead>\n",
       "  <tbody>\n",
       "    <tr>\n",
       "      <th>0</th>\n",
       "      <td>1</td>\n",
       "      <td>9062</td>\n",
       "      <td>19</td>\n",
       "      <td>8</td>\n",
       "      <td>CONNECT</td>\n",
       "      <td>5000</td>\n",
       "      <td>0.541</td>\n",
       "      <td>0.444</td>\n",
       "      <td>-25.62408</td>\n",
       "      <td>80.0</td>\n",
       "      <td>13.0</td>\n",
       "      <td>0.726</td>\n",
       "      <td>STURGES</td>\n",
       "    </tr>\n",
       "    <tr>\n",
       "      <th>1</th>\n",
       "      <td>1</td>\n",
       "      <td>9706</td>\n",
       "      <td>19</td>\n",
       "      <td>8</td>\n",
       "      <td>CONNECT</td>\n",
       "      <td>5000</td>\n",
       "      <td>0.745</td>\n",
       "      <td>0.176</td>\n",
       "      <td>-16.39512</td>\n",
       "      <td>86.0</td>\n",
       "      <td>5.0</td>\n",
       "      <td>0.826</td>\n",
       "      <td>WADSWORTH</td>\n",
       "    </tr>\n",
       "    <tr>\n",
       "      <th>2</th>\n",
       "      <td>1</td>\n",
       "      <td>8457</td>\n",
       "      <td>19</td>\n",
       "      <td>8</td>\n",
       "      <td>CONNECT</td>\n",
       "      <td>5000</td>\n",
       "      <td>0.594</td>\n",
       "      <td>0.296</td>\n",
       "      <td>-40.40777</td>\n",
       "      <td>107.0</td>\n",
       "      <td>18.0</td>\n",
       "      <td>0.685</td>\n",
       "      <td>SHERMAN</td>\n",
       "    </tr>\n",
       "    <tr>\n",
       "      <th>3</th>\n",
       "      <td>1</td>\n",
       "      <td>4766</td>\n",
       "      <td>19</td>\n",
       "      <td>8</td>\n",
       "      <td>CONNECT</td>\n",
       "      <td>5000</td>\n",
       "      <td>0.639</td>\n",
       "      <td>0.282</td>\n",
       "      <td>-28.80767</td>\n",
       "      <td>84.0</td>\n",
       "      <td>12.0</td>\n",
       "      <td>0.710</td>\n",
       "      <td>HUNTINGTON</td>\n",
       "    </tr>\n",
       "    <tr>\n",
       "      <th>4</th>\n",
       "      <td>1</td>\n",
       "      <td>9489</td>\n",
       "      <td>19</td>\n",
       "      <td>8</td>\n",
       "      <td>CONNECT</td>\n",
       "      <td>5000</td>\n",
       "      <td>0.694</td>\n",
       "      <td>0.228</td>\n",
       "      <td>-30.44611</td>\n",
       "      <td>106.0</td>\n",
       "      <td>11.0</td>\n",
       "      <td>0.750</td>\n",
       "      <td>TRUMBULL</td>\n",
       "    </tr>\n",
       "  </tbody>\n",
       "</table>\n",
       "</div>"
      ],
      "text/plain": [
       "   congress_number  icpsr  state_code  congressional_district_number  \\\n",
       "0                1   9062          19                              8   \n",
       "1                1   9706          19                              8   \n",
       "2                1   8457          19                              8   \n",
       "3                1   4766          19                              8   \n",
       "4                1   9489          19                              8   \n",
       "\n",
       "  state_name  party_code  1st_dimension_coordinate  2nd_dimension_coordinate  \\\n",
       "0    CONNECT        5000                     0.541                     0.444   \n",
       "1    CONNECT        5000                     0.745                     0.176   \n",
       "2    CONNECT        5000                     0.594                     0.296   \n",
       "3    CONNECT        5000                     0.639                     0.282   \n",
       "4    CONNECT        5000                     0.694                     0.228   \n",
       "\n",
       "   log_likelihood  number_votes  number_of_classification_errors  \\\n",
       "0       -25.62408          80.0                             13.0   \n",
       "1       -16.39512          86.0                              5.0   \n",
       "2       -40.40777         107.0                             18.0   \n",
       "3       -28.80767          84.0                             12.0   \n",
       "4       -30.44611         106.0                             11.0   \n",
       "\n",
       "   geometric_mean_probability        name  \n",
       "0                       0.726     STURGES  \n",
       "1                       0.826   WADSWORTH  \n",
       "2                       0.685     SHERMAN  \n",
       "3                       0.710  HUNTINGTON  \n",
       "4                       0.750    TRUMBULL  "
      ]
     },
     "execution_count": 10,
     "metadata": {},
     "output_type": "execute_result"
    }
   ],
   "source": [
    "nominate_scores.name\n",
    "nominate_scores = pd.concat([nominates_scores,nominate_scores.name], axis=1)\n",
    "nominate_scores.head()"
   ]
  },
  {
   "cell_type": "code",
   "execution_count": 11,
   "metadata": {
    "collapsed": false
   },
   "outputs": [
    {
     "data": {
      "text/html": [
       "<div>\n",
       "<table border=\"1\" class=\"dataframe\">\n",
       "  <thead>\n",
       "    <tr style=\"text-align: right;\">\n",
       "      <th></th>\n",
       "      <th>congress_number</th>\n",
       "      <th>icpsr</th>\n",
       "      <th>state_code</th>\n",
       "      <th>congressional_district_number</th>\n",
       "      <th>state_name</th>\n",
       "      <th>party_code</th>\n",
       "      <th>1st_dimension_coordinate</th>\n",
       "      <th>2nd_dimension_coordinate</th>\n",
       "      <th>log_likelihood</th>\n",
       "      <th>number_votes</th>\n",
       "      <th>number_of_classification_errors</th>\n",
       "      <th>geometric_mean_probability</th>\n",
       "      <th>name</th>\n",
       "    </tr>\n",
       "  </thead>\n",
       "  <tbody>\n",
       "    <tr>\n",
       "      <th>40200</th>\n",
       "      <td>102</td>\n",
       "      <td>15637</td>\n",
       "      <td>46</td>\n",
       "      <td>5</td>\n",
       "      <td>MISSISS</td>\n",
       "      <td>100</td>\n",
       "      <td>NaN</td>\n",
       "      <td>-0.047</td>\n",
       "      <td>0.92900</td>\n",
       "      <td>-319.36086</td>\n",
       "      <td>771.0</td>\n",
       "      <td>139.000</td>\n",
       "      <td>TAYLOR</td>\n",
       "    </tr>\n",
       "    <tr>\n",
       "      <th>40201</th>\n",
       "      <td>102</td>\n",
       "      <td>12009</td>\n",
       "      <td>34</td>\n",
       "      <td>1</td>\n",
       "      <td>MISSOUR</td>\n",
       "      <td>100</td>\n",
       "      <td>-0.495</td>\n",
       "      <td>-0.869</td>\n",
       "      <td>-183.81580</td>\n",
       "      <td>700.00000</td>\n",
       "      <td>74.0</td>\n",
       "      <td>0.769</td>\n",
       "      <td>CLAY</td>\n",
       "    </tr>\n",
       "    <tr>\n",
       "      <th>40202</th>\n",
       "      <td>102</td>\n",
       "      <td>29128</td>\n",
       "      <td>34</td>\n",
       "      <td>2</td>\n",
       "      <td>MISSOUR</td>\n",
       "      <td>100</td>\n",
       "      <td>-0.289</td>\n",
       "      <td>-0.105</td>\n",
       "      <td>-149.26880</td>\n",
       "      <td>779.00000</td>\n",
       "      <td>56.0</td>\n",
       "      <td>0.826</td>\n",
       "      <td>HORN</td>\n",
       "    </tr>\n",
       "    <tr>\n",
       "      <th>40203</th>\n",
       "      <td>102</td>\n",
       "      <td>14421</td>\n",
       "      <td>34</td>\n",
       "      <td>3</td>\n",
       "      <td>MISSOUR</td>\n",
       "      <td>100</td>\n",
       "      <td>-0.417</td>\n",
       "      <td>0.250</td>\n",
       "      <td>-99.13136</td>\n",
       "      <td>723.00000</td>\n",
       "      <td>38.0</td>\n",
       "      <td>0.872</td>\n",
       "      <td>GEPHARDT</td>\n",
       "    </tr>\n",
       "    <tr>\n",
       "      <th>40204</th>\n",
       "      <td>102</td>\n",
       "      <td>14451</td>\n",
       "      <td>34</td>\n",
       "      <td>4</td>\n",
       "      <td>MISSOUR</td>\n",
       "      <td>100</td>\n",
       "      <td>-0.172</td>\n",
       "      <td>0.720</td>\n",
       "      <td>-225.71602</td>\n",
       "      <td>756.00000</td>\n",
       "      <td>120.0</td>\n",
       "      <td>0.742</td>\n",
       "      <td>SKELTON</td>\n",
       "    </tr>\n",
       "  </tbody>\n",
       "</table>\n",
       "</div>"
      ],
      "text/plain": [
       "       congress_number  icpsr  state_code  congressional_district_number  \\\n",
       "40200              102  15637          46                              5   \n",
       "40201              102  12009          34                              1   \n",
       "40202              102  29128          34                              2   \n",
       "40203              102  14421          34                              3   \n",
       "40204              102  14451          34                              4   \n",
       "\n",
       "      state_name  party_code  1st_dimension_coordinate  \\\n",
       "40200    MISSISS         100                       NaN   \n",
       "40201    MISSOUR         100                    -0.495   \n",
       "40202    MISSOUR         100                    -0.289   \n",
       "40203    MISSOUR         100                    -0.417   \n",
       "40204    MISSOUR         100                    -0.172   \n",
       "\n",
       "       2nd_dimension_coordinate  log_likelihood  number_votes  \\\n",
       "40200                    -0.047         0.92900    -319.36086   \n",
       "40201                    -0.869      -183.81580     700.00000   \n",
       "40202                    -0.105      -149.26880     779.00000   \n",
       "40203                     0.250       -99.13136     723.00000   \n",
       "40204                     0.720      -225.71602     756.00000   \n",
       "\n",
       "       number_of_classification_errors  geometric_mean_probability      name  \n",
       "40200                            771.0                     139.000    TAYLOR  \n",
       "40201                             74.0                       0.769      CLAY  \n",
       "40202                             56.0                       0.826      HORN  \n",
       "40203                             38.0                       0.872  GEPHARDT  \n",
       "40204                            120.0                       0.742   SKELTON  "
      ]
     },
     "execution_count": 11,
     "metadata": {},
     "output_type": "execute_result"
    }
   ],
   "source": [
    "nominate_scores[40200:].head()"
   ]
  },
  {
   "cell_type": "code",
   "execution_count": 19,
   "metadata": {
    "collapsed": false
   },
   "outputs": [
    {
     "name": "stdout",
     "output_type": "stream",
     "text": [
      "['CONNECT' 'DELAWAR' 'GEORGIA' 'MARYLAN' 'MASSACH' 'NEW HAM' 'NEW JER'\n",
      " 'NEW YOR' 'NORTH C' 'PENNSYL' 'SOUTH C' 'VIRGINI' 'RHODE I' 'KENTUCK'\n",
      " 'VERMONT' 'TENNESS' 'USA' 'OHIO' 'LOUISIA' 'INDIANA' 'ILLINOI' 'MISSISS'\n",
      " 'ALABAMA' 'MAINE' 'MISSOUR' 'ARKANSA' 'MICHIGA' 'FLORIDA' 'IOWA' 'TEXAS'\n",
      " 'WISCONS' 'CALIFOR' 'MINNESO' 'OREGON' 'KANSAS' 'NEVADA' 'WEST VI'\n",
      " 'NEBRASK' 'COLORAD' 'IDAHO' 'MONTANA' 'NORTH D' 'SOUTH D' 'WASHING'\n",
      " 'WYOMING' 'UTAH' 'OKLAHOM' 'ARIZONA' 'NEW MEX' 'ALASKA' 'HAWAII'] 51\n"
     ]
    }
   ],
   "source": [
    "states = nominate_scores.state_name.unique()\n",
    "print states, len(states)"
   ]
  },
  {
   "cell_type": "code",
   "execution_count": 15,
   "metadata": {
    "collapsed": false
   },
   "outputs": [
    {
     "data": {
      "text/plain": [
       "array([5000, 4000,    1,  200, 1346, 8888, 6000, 7777, 8000, 7000,   22,\n",
       "        555, 1275,   26,   44,   29,  100,  328,  112,  329,  603,  403,\n",
       "        310, 1111,  300, 4444,   46, 3333,  108,  206,   37,  203,  331,\n",
       "       1116,  208,  326,  117,  114,  355,  356,  340, 1060,  354,  213,\n",
       "        380,  370,  347,  537,  522,  402])"
      ]
     },
     "execution_count": 15,
     "metadata": {},
     "output_type": "execute_result"
    }
   ],
   "source": [
    "nominate_scores.party_code.unique()"
   ]
  }
 ],
 "metadata": {
  "kernelspec": {
   "display_name": "Python 2",
   "language": "python",
   "name": "python2"
  },
  "language_info": {
   "codemirror_mode": {
    "name": "ipython",
    "version": 2
   },
   "file_extension": ".py",
   "mimetype": "text/x-python",
   "name": "python",
   "nbconvert_exporter": "python",
   "pygments_lexer": "ipython2",
   "version": "2.7.11"
  }
 },
 "nbformat": 4,
 "nbformat_minor": 0
}

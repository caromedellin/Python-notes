{
 "cells": [
  {
   "cell_type": "markdown",
   "metadata": {},
   "source": [
    "# Cleaning the Data and creating a sparce matrix"
   ]
  },
  {
   "cell_type": "markdown",
   "metadata": {},
   "source": [
    "I start by importing the basic libraries and the data from a file. "
   ]
  },
  {
   "cell_type": "code",
   "execution_count": 1,
   "metadata": {
    "collapsed": true
   },
   "outputs": [],
   "source": [
    "import pandas as pd\n",
    "import numpy as np"
   ]
  },
  {
   "cell_type": "markdown",
   "metadata": {},
   "source": [
    "### This is what the data looks like:"
   ]
  },
  {
   "cell_type": "code",
   "execution_count": 2,
   "metadata": {
    "collapsed": false
   },
   "outputs": [
    {
     "data": {
      "text/html": [
       "<div>\n",
       "<table border=\"1\" class=\"dataframe\">\n",
       "  <thead>\n",
       "    <tr style=\"text-align: right;\">\n",
       "      <th></th>\n",
       "      <th>title</th>\n",
       "      <th>firstname</th>\n",
       "      <th>middlename</th>\n",
       "      <th>lastname</th>\n",
       "      <th>name_suffix</th>\n",
       "      <th>nickname</th>\n",
       "      <th>party</th>\n",
       "      <th>state</th>\n",
       "      <th>district</th>\n",
       "      <th>in_office</th>\n",
       "      <th>...</th>\n",
       "      <th>govtrack_id</th>\n",
       "      <th>crp_id</th>\n",
       "      <th>twitter_id</th>\n",
       "      <th>congresspedia_url</th>\n",
       "      <th>youtube_url</th>\n",
       "      <th>facebook_id</th>\n",
       "      <th>official_rss</th>\n",
       "      <th>senate_class</th>\n",
       "      <th>birthdate</th>\n",
       "      <th>oc_email</th>\n",
       "    </tr>\n",
       "  </thead>\n",
       "  <tbody>\n",
       "    <tr>\n",
       "      <th>0</th>\n",
       "      <td>Rep</td>\n",
       "      <td>Neil</td>\n",
       "      <td>NaN</td>\n",
       "      <td>Abercrombie</td>\n",
       "      <td>NaN</td>\n",
       "      <td>NaN</td>\n",
       "      <td>D</td>\n",
       "      <td>HI</td>\n",
       "      <td>1</td>\n",
       "      <td>0</td>\n",
       "      <td>...</td>\n",
       "      <td>400001</td>\n",
       "      <td>N00007665</td>\n",
       "      <td>neilabercrombie</td>\n",
       "      <td>http://www.opencongress.org/wiki/Neil_Abercrombie</td>\n",
       "      <td>http://youtube.com/hawaiirep1</td>\n",
       "      <td>NaN</td>\n",
       "      <td>NaN</td>\n",
       "      <td>NaN</td>\n",
       "      <td>1938-06-26</td>\n",
       "      <td>NaN</td>\n",
       "    </tr>\n",
       "    <tr>\n",
       "      <th>1</th>\n",
       "      <td>Rep</td>\n",
       "      <td>Gary</td>\n",
       "      <td>L.</td>\n",
       "      <td>Ackerman</td>\n",
       "      <td>NaN</td>\n",
       "      <td>NaN</td>\n",
       "      <td>D</td>\n",
       "      <td>NY</td>\n",
       "      <td>5</td>\n",
       "      <td>0</td>\n",
       "      <td>...</td>\n",
       "      <td>400003</td>\n",
       "      <td>N00001143</td>\n",
       "      <td>repgaryackerman</td>\n",
       "      <td>http://www.opencongress.org/wiki/Gary_Ackerman</td>\n",
       "      <td>http://youtube.com/RepAckerman</td>\n",
       "      <td>RepAcherman</td>\n",
       "      <td>NaN</td>\n",
       "      <td>NaN</td>\n",
       "      <td>1942-11-19</td>\n",
       "      <td>NaN</td>\n",
       "    </tr>\n",
       "    <tr>\n",
       "      <th>2</th>\n",
       "      <td>Rep</td>\n",
       "      <td>Robert</td>\n",
       "      <td>B.</td>\n",
       "      <td>Aderholt</td>\n",
       "      <td>NaN</td>\n",
       "      <td>NaN</td>\n",
       "      <td>R</td>\n",
       "      <td>AL</td>\n",
       "      <td>4</td>\n",
       "      <td>1</td>\n",
       "      <td>...</td>\n",
       "      <td>400004</td>\n",
       "      <td>N00003028</td>\n",
       "      <td>Robert_Aderholt</td>\n",
       "      <td>http://www.opencongress.org/wiki/Robert_Aderholt</td>\n",
       "      <td>http://youtube.com/RobertAderholt</td>\n",
       "      <td>19787529402</td>\n",
       "      <td>NaN</td>\n",
       "      <td>NaN</td>\n",
       "      <td>1965-07-22</td>\n",
       "      <td>Rep.Aderholt@opencongress.org</td>\n",
       "    </tr>\n",
       "    <tr>\n",
       "      <th>3</th>\n",
       "      <td>Sen</td>\n",
       "      <td>Daniel</td>\n",
       "      <td>Kahikina</td>\n",
       "      <td>Akaka</td>\n",
       "      <td>NaN</td>\n",
       "      <td>NaN</td>\n",
       "      <td>D</td>\n",
       "      <td>HI</td>\n",
       "      <td>Junior Seat</td>\n",
       "      <td>0</td>\n",
       "      <td>...</td>\n",
       "      <td>300001</td>\n",
       "      <td>N00007653</td>\n",
       "      <td>NaN</td>\n",
       "      <td>http://www.opencongress.org/wiki/Daniel_Akaka</td>\n",
       "      <td>http://youtube.com/senatorakaka</td>\n",
       "      <td>danielakaka</td>\n",
       "      <td>NaN</td>\n",
       "      <td>I</td>\n",
       "      <td>1924-09-11</td>\n",
       "      <td>NaN</td>\n",
       "    </tr>\n",
       "    <tr>\n",
       "      <th>4</th>\n",
       "      <td>Sen</td>\n",
       "      <td>Wayne</td>\n",
       "      <td>A.</td>\n",
       "      <td>Allard</td>\n",
       "      <td>NaN</td>\n",
       "      <td>NaN</td>\n",
       "      <td>R</td>\n",
       "      <td>CO</td>\n",
       "      <td>Senior Seat</td>\n",
       "      <td>0</td>\n",
       "      <td>...</td>\n",
       "      <td>300003</td>\n",
       "      <td>N00009082</td>\n",
       "      <td>NaN</td>\n",
       "      <td>http://www.opencongress.org/wiki/Wayne_Allard</td>\n",
       "      <td>NaN</td>\n",
       "      <td>NaN</td>\n",
       "      <td>NaN</td>\n",
       "      <td>II</td>\n",
       "      <td>1943-12-02</td>\n",
       "      <td>NaN</td>\n",
       "    </tr>\n",
       "  </tbody>\n",
       "</table>\n",
       "<p>5 rows × 29 columns</p>\n",
       "</div>"
      ],
      "text/plain": [
       "  title firstname middlename     lastname name_suffix nickname party state  \\\n",
       "0   Rep      Neil        NaN  Abercrombie         NaN      NaN     D    HI   \n",
       "1   Rep      Gary         L.     Ackerman         NaN      NaN     D    NY   \n",
       "2   Rep    Robert         B.     Aderholt         NaN      NaN     R    AL   \n",
       "3   Sen    Daniel   Kahikina        Akaka         NaN      NaN     D    HI   \n",
       "4   Sen     Wayne         A.       Allard         NaN      NaN     R    CO   \n",
       "\n",
       "      district  in_office              ...               govtrack_id  \\\n",
       "0            1          0              ...                    400001   \n",
       "1            5          0              ...                    400003   \n",
       "2            4          1              ...                    400004   \n",
       "3  Junior Seat          0              ...                    300001   \n",
       "4  Senior Seat          0              ...                    300003   \n",
       "\n",
       "      crp_id       twitter_id  \\\n",
       "0  N00007665  neilabercrombie   \n",
       "1  N00001143  repgaryackerman   \n",
       "2  N00003028  Robert_Aderholt   \n",
       "3  N00007653              NaN   \n",
       "4  N00009082              NaN   \n",
       "\n",
       "                                   congresspedia_url  \\\n",
       "0  http://www.opencongress.org/wiki/Neil_Abercrombie   \n",
       "1     http://www.opencongress.org/wiki/Gary_Ackerman   \n",
       "2   http://www.opencongress.org/wiki/Robert_Aderholt   \n",
       "3      http://www.opencongress.org/wiki/Daniel_Akaka   \n",
       "4      http://www.opencongress.org/wiki/Wayne_Allard   \n",
       "\n",
       "                         youtube_url  facebook_id official_rss  senate_class  \\\n",
       "0      http://youtube.com/hawaiirep1          NaN          NaN           NaN   \n",
       "1     http://youtube.com/RepAckerman  RepAcherman          NaN           NaN   \n",
       "2  http://youtube.com/RobertAderholt  19787529402          NaN           NaN   \n",
       "3    http://youtube.com/senatorakaka  danielakaka          NaN             I   \n",
       "4                                NaN          NaN          NaN            II   \n",
       "\n",
       "    birthdate                       oc_email  \n",
       "0  1938-06-26                            NaN  \n",
       "1  1942-11-19                            NaN  \n",
       "2  1965-07-22  Rep.Aderholt@opencongress.org  \n",
       "3  1924-09-11                            NaN  \n",
       "4  1943-12-02                            NaN  \n",
       "\n",
       "[5 rows x 29 columns]"
      ]
     },
     "execution_count": 2,
     "metadata": {},
     "output_type": "execute_result"
    }
   ],
   "source": [
    "legislatorsData = pd.read_csv(\"../data/legislators.csv\")\n",
    "legislatorsData.head()\n",
    "legislatorsData.columns\n",
    "legislators = pd.DataFrame(legislatorsData)\n",
    "legislators.head()"
   ]
  },
  {
   "cell_type": "code",
   "execution_count": null,
   "metadata": {
    "collapsed": true
   },
   "outputs": [],
   "source": []
  },
  {
   "cell_type": "code",
   "execution_count": 3,
   "metadata": {
    "collapsed": true
   },
   "outputs": [],
   "source": [
    "from urllib2 import Request, urlopen\n",
    "import json\n",
    "from pandas.io.json import json_normalize"
   ]
  },
  {
   "cell_type": "code",
   "execution_count": 4,
   "metadata": {
    "collapsed": true
   },
   "outputs": [],
   "source": [
    "def requestWords( id ):\n",
    "    id = str(id)\n",
    "    url = \"http://capitolwords.org/api/1/phrases.json?entity_type=legislator&entity_value=\"+id+\"&apikey=0bf8e7eb6ce146f48217bfee767c998d\"\n",
    "    request=Request(url)\n",
    "    response = urlopen(request)\n",
    "    contents = response.read()\n",
    "    len(contents)\n",
    "    if len(contents) > 2:\n",
    "        data = json.loads(contents)\n",
    "        words = json_normalize(data)\n",
    "        list_of_words = words.ngram.tolist()\n",
    "        string_of_words =\"|\".join(list_of_words)\n",
    "        return string_of_words\n",
    "    else:\n",
    "        return np.nan"
   ]
  },
  {
   "cell_type": "code",
   "execution_count": 5,
   "metadata": {
    "collapsed": false
   },
   "outputs": [],
   "source": [
    "legislators['favorite_words'] = legislators.apply(lambda row: requestWords(row['bioguide_id']),axis=1)"
   ]
  },
  {
   "cell_type": "code",
   "execution_count": 6,
   "metadata": {
    "collapsed": false
   },
   "outputs": [
    {
     "name": "stdout",
     "output_type": "stream",
     "text": [
      "0    hawaiian|hawaii|hawaiians|hawaii's|kalaupapa|e...\n",
      "1    queens|rabbi|jewish|bayside|flushing|nassau|br...\n",
      "2    aderholt|requesting|irons|huntsville|alabama|r...\n",
      "Name: favorite_words, dtype: object\n",
      "All entries before getting rid of entris with no words: 897\n"
     ]
    }
   ],
   "source": [
    "print legislators.favorite_words.head(3)\n",
    "print \"All entries before getting rid of entris with no words:\", len(legislators.favorite_words)"
   ]
  },
  {
   "cell_type": "code",
   "execution_count": 7,
   "metadata": {
    "collapsed": false
   },
   "outputs": [],
   "source": [
    "legislators_words = legislators[legislators.favorite_words.notnull()]"
   ]
  },
  {
   "cell_type": "code",
   "execution_count": 8,
   "metadata": {
    "collapsed": false
   },
   "outputs": [
    {
     "name": "stdout",
     "output_type": "stream",
     "text": [
      "Number of legislators with word record: 763\n"
     ]
    }
   ],
   "source": [
    "print \"Number of legislators with word record:\", len(legislators_words.favorite_words)"
   ]
  },
  {
   "cell_type": "code",
   "execution_count": 9,
   "metadata": {
    "collapsed": false
   },
   "outputs": [
    {
     "name": "stdout",
     "output_type": "stream",
     "text": [
      "   $0  $1  $1.50  $10  $100  $1000  $100000  $1000000  $10638425746293  $107  \\\n",
      "0   0   0      0    0     0      0        0         0                0     0   \n",
      "1   0   0      0    0     0      0        0         0                0     0   \n",
      "2   0   0      0    0     0      0        0         0                0     0   \n",
      "\n",
      "   ...   ziegler  zimbabwe  zimmer  zinc  zion  zoberman  zone  zones  zoo  \\\n",
      "0  ...         0         0       0     0     0         0     0      0    0   \n",
      "1  ...         0         0       0     0     0         0     0      0    0   \n",
      "2  ...         0         0       0     0     0         0     0      0    0   \n",
      "\n",
      "   zuni  \n",
      "0     0  \n",
      "1     0  \n",
      "2     0  \n",
      "\n",
      "[3 rows x 14420 columns]\n"
     ]
    },
    {
     "data": {
      "text/plain": [
       "Index([u'$0', u'$1', u'$1.50', u'$10', u'$100', u'$1000', u'$100000',\n",
       "       u'$1000000', u'$10638425746293', u'$107', u'$12', u'$120', u'$12000',\n",
       "       u'$13', u'$1300', u'$139', u'$14', u'$1400', u'$15', u'$1500',\n",
       "       u'$150000', u'$1500000', u'$159', u'$1600', u'$17', u'$170', u'$18',\n",
       "       u'$186', u'$19', u'$191', u'$2', u'$2.33', u'$200', u'$2000',\n",
       "       u'$200000', u'$2000000', u'$21', u'$23', u'$23000', u'$236', u'$240',\n",
       "       u'$25', u'$250', u'$250000', u'$2500000', u'$270', u'$27000', u'$290',\n",
       "       u'$29000', u'$3', u'$300', u'$3000', u'$30000', u'$300000', u'$30500',\n",
       "       u'$310', u'$319', u'$3300', u'$35', u'$350', u'$35000', u'$350000',\n",
       "       u'$38', u'$4', u'$4.50', u'$400', u'$400000', u'$45', u'$46', u'$464',\n",
       "       u'$5', u'$50', u'$500', u'$5000', u'$50000', u'$500000', u'$5100000',\n",
       "       u'$58', u'$58000', u'$6', u'$60', u'$600', u'$600000', u'$6000000',\n",
       "       u'$61', u'$683', u'$700', u'$713', u'$730', u'$750', u'$750000',\n",
       "       u'$760', u'$787', u'$8', u'$80', u'$800', u'$81', u'$87', u'$90',\n",
       "       u'$900'],\n",
       "      dtype='object')"
      ]
     },
     "execution_count": 9,
     "metadata": {},
     "output_type": "execute_result"
    }
   ],
   "source": [
    "favorite_words = legislators_words.favorite_words.str.get_dummies(sep = \"|\")\n",
    "print favorite_words.head(3)\n",
    "favorite_words.columns[:100]"
   ]
  },
  {
   "cell_type": "code",
   "execution_count": 10,
   "metadata": {
    "collapsed": false
   },
   "outputs": [
    {
     "data": {
      "text/plain": [
       "(763, 14420)"
      ]
     },
     "execution_count": 10,
     "metadata": {},
     "output_type": "execute_result"
    }
   ],
   "source": [
    "favorite_words.shape"
   ]
  },
  {
   "cell_type": "code",
   "execution_count": 11,
   "metadata": {
    "collapsed": false
   },
   "outputs": [
    {
     "data": {
      "text/plain": [
       "Index([u'1728', u'174', u'174000', u'1741', u'175', u'1750', u'177', u'1771',\n",
       "       u'1775', u'178', u'1782', u'18', u'180', u'1803', u'1805', u'1808',\n",
       "       u'1812', u'182', u'1821', u'184', u'1849', u'185', u'1860', u'1861',\n",
       "       u'1862', u'1863', u'1872', u'1873', u'188', u'1886', u'189', u'1894',\n",
       "       u'1898', u'19', u'1900', u'1909', u'1910', u'19107', u'1911', u'1915'],\n",
       "      dtype='object')"
      ]
     },
     "execution_count": 11,
     "metadata": {},
     "output_type": "execute_result"
    }
   ],
   "source": [
    "favorite_words.columns[260:300]"
   ]
  },
  {
   "cell_type": "code",
   "execution_count": 12,
   "metadata": {
    "collapsed": false
   },
   "outputs": [
    {
     "data": {
      "text/plain": [
       "Index([u'944', u'95', u'952', u'953', u'96', u'964', u'97', u'98', u'9800',\n",
       "       u'9896', u'990', u'991', u'9946', u'999', u'9:30', u'?', u'a', u'a&m',\n",
       "       u'a-plus', u'a.', u'a.d.', u'a.m.', u'a.m.e.', u'aaa', u'aacute',\n",
       "       u'aahsa', u'aamodt', u'aana', u'aapg', u'aapi', u'aapis', u'aaron',\n",
       "       u'aarp', u'abandon', u'abandoned', u'abaya', u'abbas', u'abbas's',\n",
       "       u'abbeville', u'abby'],\n",
       "      dtype='object')"
      ]
     },
     "execution_count": 12,
     "metadata": {},
     "output_type": "execute_result"
    }
   ],
   "source": [
    "favorite_words.columns[760:800]"
   ]
  },
  {
   "cell_type": "code",
   "execution_count": 13,
   "metadata": {
    "collapsed": false
   },
   "outputs": [
    {
     "data": {
      "text/plain": [
       "CountVectorizer(analyzer=u'word', binary=False, decode_error=u'strict',\n",
       "        dtype=<type 'numpy.int64'>, encoding=u'utf-8', input=u'content',\n",
       "        lowercase=True, max_df=1.0, max_features=None, min_df=1,\n",
       "        ngram_range=(1, 1), preprocessor=None, stop_words=None,\n",
       "        strip_accents=None, token_pattern=u'(?u)\\\\b\\\\w\\\\w+\\\\b',\n",
       "        tokenizer=None, vocabulary=None)"
      ]
     },
     "execution_count": 13,
     "metadata": {},
     "output_type": "execute_result"
    }
   ],
   "source": [
    "from sklearn.feature_extraction.text import CountVectorizer\n",
    "vectorizer = CountVectorizer(min_df=1)\n",
    "vectorizer"
   ]
  },
  {
   "cell_type": "markdown",
   "metadata": {},
   "source": [
    "#### Corpus\n",
    "I used the whole must repited words to have more of a global tf-idf"
   ]
  },
  {
   "cell_type": "code",
   "execution_count": 14,
   "metadata": {
    "collapsed": false
   },
   "outputs": [
    {
     "data": {
      "text/plain": [
       "[u'$0', u'$1', u'$1.50']"
      ]
     },
     "execution_count": 14,
     "metadata": {},
     "output_type": "execute_result"
    }
   ],
   "source": [
    "corpus = favorite_words.columns.tolist()\n",
    "corpus[:3]"
   ]
  },
  {
   "cell_type": "code",
   "execution_count": 15,
   "metadata": {
    "collapsed": true
   },
   "outputs": [],
   "source": [
    "X = vectorizer.fit_transform(corpus)"
   ]
  },
  {
   "cell_type": "code",
   "execution_count": 16,
   "metadata": {
    "collapsed": false
   },
   "outputs": [
    {
     "name": "stdout",
     "output_type": "stream",
     "text": [
      "[u'economy', u'this']\n"
     ]
    },
    {
     "data": {
      "text/plain": [
       "[u'africans',\n",
       " u'after',\n",
       " u'aftermath',\n",
       " u'afternoon',\n",
       " u'afterschool',\n",
       " u'afterward',\n",
       " u'ag',\n",
       " u'again',\n",
       " u'against',\n",
       " u'agana']"
      ]
     },
     "execution_count": 16,
     "metadata": {},
     "output_type": "execute_result"
    }
   ],
   "source": [
    "analyze = vectorizer.build_analyzer()\n",
    "print analyze(\"economy a this\")\n",
    "vectorizer.get_feature_names()[910:920]"
   ]
  },
  {
   "cell_type": "code",
   "execution_count": 17,
   "metadata": {
    "collapsed": false
   },
   "outputs": [
    {
     "data": {
      "text/plain": [
       "4357"
      ]
     },
     "execution_count": 17,
     "metadata": {},
     "output_type": "execute_result"
    }
   ],
   "source": [
    "vectorizer.vocabulary_.get('document') #not seen in the training corpus will be completely ignored in future calls to the transform method"
   ]
  },
  {
   "cell_type": "code",
   "execution_count": 18,
   "metadata": {
    "collapsed": false
   },
   "outputs": [
    {
     "data": {
      "text/plain": [
       "array([[0, 0, 0, ..., 0, 0, 0]])"
      ]
     },
     "execution_count": 18,
     "metadata": {},
     "output_type": "execute_result"
    }
   ],
   "source": [
    "vectorizer.transform(['Something completely unrelated']).toarray()"
   ]
  },
  {
   "cell_type": "markdown",
   "metadata": {},
   "source": [
    "### Biagram\n",
    "not sure if i shoud add Biagrams since the corpus is made up single words and a lot of of number dropping politicians love to do."
   ]
  },
  {
   "cell_type": "markdown",
   "metadata": {},
   "source": [
    "### Transformer"
   ]
  },
  {
   "cell_type": "code",
   "execution_count": 19,
   "metadata": {
    "collapsed": true
   },
   "outputs": [],
   "source": [
    "from sklearn.feature_extraction.text import TfidfTransformer"
   ]
  },
  {
   "cell_type": "code",
   "execution_count": 20,
   "metadata": {
    "collapsed": false
   },
   "outputs": [
    {
     "data": {
      "text/plain": [
       "TfidfTransformer(norm=u'l2', smooth_idf=True, sublinear_tf=False,\n",
       "         use_idf=True)"
      ]
     },
     "execution_count": 20,
     "metadata": {},
     "output_type": "execute_result"
    }
   ],
   "source": [
    "transformer = TfidfTransformer()\n",
    "transformer"
   ]
  },
  {
   "cell_type": "code",
   "execution_count": 21,
   "metadata": {
    "collapsed": false
   },
   "outputs": [
    {
     "data": {
      "text/plain": [
       "array([ 6.25227343,  4.93051759,  6.94542061, ...,  6.94542061,\n",
       "        6.5399555 ,  6.94542061])"
      ]
     },
     "execution_count": 21,
     "metadata": {},
     "output_type": "execute_result"
    }
   ],
   "source": [
    "tfidf = transformer.fit_transform(favorite_words)\n",
    "tfidf_array = tfidf.toarray()\n",
    "tfidf_array.shape\n",
    "tfidf_array[20].max()\n",
    "transformer.idf_"
   ]
  },
  {
   "cell_type": "markdown",
   "metadata": {},
   "source": [
    "### Vectorizer"
   ]
  },
  {
   "cell_type": "code",
   "execution_count": 22,
   "metadata": {
    "collapsed": false
   },
   "outputs": [
    {
     "name": "stdout",
     "output_type": "stream",
     "text": [
      "13670\n"
     ]
    }
   ],
   "source": [
    "from sklearn.feature_extraction.text import TfidfVectorizer\n",
    "vectorizer = TfidfVectorizer(min_df=1)\n",
    "vectorizer.fit_transform(corpus)\n",
    "vec_idf = vectorizer.idf_\n",
    "print len(vec_idf)"
   ]
  },
  {
   "cell_type": "code",
   "execution_count": 23,
   "metadata": {
    "collapsed": false
   },
   "outputs": [
    {
     "name": "stdout",
     "output_type": "stream",
     "text": [
      "Int64Index([  0,   1,   2,   3,   4,   5,   6,   7,   8,   9,\n",
      "            ...\n",
      "            886, 887, 888, 889, 890, 891, 892, 893, 894, 896],\n",
      "           dtype='int64', length=763)\n",
      "Int64Index([  0,   1,   2,   3,   4,   5,   6,   7,   8,   9,\n",
      "            ...\n",
      "            886, 887, 888, 889, 890, 891, 892, 893, 894, 896],\n",
      "           dtype='int64', length=763)\n"
     ]
    }
   ],
   "source": [
    "words_weight = pd.DataFrame(tfidf_array, index=legislators_words.index , columns=corpus)\n",
    "print legislators_words.index\n",
    "print words_weight.index"
   ]
  },
  {
   "cell_type": "code",
   "execution_count": 24,
   "metadata": {
    "collapsed": false
   },
   "outputs": [],
   "source": [
    "capitol_words = legislators_words.merge(words_weight, right_index=True, left_index=True)"
   ]
  },
  {
   "cell_type": "code",
   "execution_count": 25,
   "metadata": {
    "collapsed": false
   },
   "outputs": [
    {
     "data": {
      "text/html": [
       "<div>\n",
       "<table border=\"1\" class=\"dataframe\">\n",
       "  <thead>\n",
       "    <tr style=\"text-align: right;\">\n",
       "      <th></th>\n",
       "      <th>title_x</th>\n",
       "      <th>firstname</th>\n",
       "      <th>middlename</th>\n",
       "      <th>lastname</th>\n",
       "      <th>name_suffix</th>\n",
       "      <th>nickname</th>\n",
       "      <th>party_x</th>\n",
       "      <th>state_x</th>\n",
       "      <th>district_x</th>\n",
       "      <th>in_office</th>\n",
       "      <th>...</th>\n",
       "      <th>ziegler</th>\n",
       "      <th>zimbabwe</th>\n",
       "      <th>zimmer</th>\n",
       "      <th>zinc</th>\n",
       "      <th>zion</th>\n",
       "      <th>zoberman</th>\n",
       "      <th>zone</th>\n",
       "      <th>zones</th>\n",
       "      <th>zoo</th>\n",
       "      <th>zuni</th>\n",
       "    </tr>\n",
       "  </thead>\n",
       "  <tbody>\n",
       "    <tr>\n",
       "      <th>0</th>\n",
       "      <td>Rep</td>\n",
       "      <td>Neil</td>\n",
       "      <td>NaN</td>\n",
       "      <td>Abercrombie</td>\n",
       "      <td>NaN</td>\n",
       "      <td>NaN</td>\n",
       "      <td>D</td>\n",
       "      <td>HI</td>\n",
       "      <td>1</td>\n",
       "      <td>0</td>\n",
       "      <td>...</td>\n",
       "      <td>0.0</td>\n",
       "      <td>0.0</td>\n",
       "      <td>0.0</td>\n",
       "      <td>0.0</td>\n",
       "      <td>0.0</td>\n",
       "      <td>0.0</td>\n",
       "      <td>0.0</td>\n",
       "      <td>0.0</td>\n",
       "      <td>0.0</td>\n",
       "      <td>0.0</td>\n",
       "    </tr>\n",
       "    <tr>\n",
       "      <th>1</th>\n",
       "      <td>Rep</td>\n",
       "      <td>Gary</td>\n",
       "      <td>L.</td>\n",
       "      <td>Ackerman</td>\n",
       "      <td>NaN</td>\n",
       "      <td>NaN</td>\n",
       "      <td>D</td>\n",
       "      <td>NY</td>\n",
       "      <td>5</td>\n",
       "      <td>0</td>\n",
       "      <td>...</td>\n",
       "      <td>0.0</td>\n",
       "      <td>0.0</td>\n",
       "      <td>0.0</td>\n",
       "      <td>0.0</td>\n",
       "      <td>0.0</td>\n",
       "      <td>0.0</td>\n",
       "      <td>0.0</td>\n",
       "      <td>0.0</td>\n",
       "      <td>0.0</td>\n",
       "      <td>0.0</td>\n",
       "    </tr>\n",
       "    <tr>\n",
       "      <th>2</th>\n",
       "      <td>Rep</td>\n",
       "      <td>Robert</td>\n",
       "      <td>B.</td>\n",
       "      <td>Aderholt</td>\n",
       "      <td>NaN</td>\n",
       "      <td>NaN</td>\n",
       "      <td>R</td>\n",
       "      <td>AL</td>\n",
       "      <td>4</td>\n",
       "      <td>1</td>\n",
       "      <td>...</td>\n",
       "      <td>0.0</td>\n",
       "      <td>0.0</td>\n",
       "      <td>0.0</td>\n",
       "      <td>0.0</td>\n",
       "      <td>0.0</td>\n",
       "      <td>0.0</td>\n",
       "      <td>0.0</td>\n",
       "      <td>0.0</td>\n",
       "      <td>0.0</td>\n",
       "      <td>0.0</td>\n",
       "    </tr>\n",
       "    <tr>\n",
       "      <th>3</th>\n",
       "      <td>Sen</td>\n",
       "      <td>Daniel</td>\n",
       "      <td>Kahikina</td>\n",
       "      <td>Akaka</td>\n",
       "      <td>NaN</td>\n",
       "      <td>NaN</td>\n",
       "      <td>D</td>\n",
       "      <td>HI</td>\n",
       "      <td>Junior Seat</td>\n",
       "      <td>0</td>\n",
       "      <td>...</td>\n",
       "      <td>0.0</td>\n",
       "      <td>0.0</td>\n",
       "      <td>0.0</td>\n",
       "      <td>0.0</td>\n",
       "      <td>0.0</td>\n",
       "      <td>0.0</td>\n",
       "      <td>0.0</td>\n",
       "      <td>0.0</td>\n",
       "      <td>0.0</td>\n",
       "      <td>0.0</td>\n",
       "    </tr>\n",
       "    <tr>\n",
       "      <th>4</th>\n",
       "      <td>Sen</td>\n",
       "      <td>Wayne</td>\n",
       "      <td>A.</td>\n",
       "      <td>Allard</td>\n",
       "      <td>NaN</td>\n",
       "      <td>NaN</td>\n",
       "      <td>R</td>\n",
       "      <td>CO</td>\n",
       "      <td>Senior Seat</td>\n",
       "      <td>0</td>\n",
       "      <td>...</td>\n",
       "      <td>0.0</td>\n",
       "      <td>0.0</td>\n",
       "      <td>0.0</td>\n",
       "      <td>0.0</td>\n",
       "      <td>0.0</td>\n",
       "      <td>0.0</td>\n",
       "      <td>0.0</td>\n",
       "      <td>0.0</td>\n",
       "      <td>0.0</td>\n",
       "      <td>0.0</td>\n",
       "    </tr>\n",
       "  </tbody>\n",
       "</table>\n",
       "<p>5 rows × 14450 columns</p>\n",
       "</div>"
      ],
      "text/plain": [
       "  title_x firstname middlename     lastname name_suffix nickname party_x  \\\n",
       "0     Rep      Neil        NaN  Abercrombie         NaN      NaN       D   \n",
       "1     Rep      Gary         L.     Ackerman         NaN      NaN       D   \n",
       "2     Rep    Robert         B.     Aderholt         NaN      NaN       R   \n",
       "3     Sen    Daniel   Kahikina        Akaka         NaN      NaN       D   \n",
       "4     Sen     Wayne         A.       Allard         NaN      NaN       R   \n",
       "\n",
       "  state_x   district_x  in_office  ...  ziegler zimbabwe zimmer zinc zion  \\\n",
       "0      HI            1          0  ...      0.0      0.0    0.0  0.0  0.0   \n",
       "1      NY            5          0  ...      0.0      0.0    0.0  0.0  0.0   \n",
       "2      AL            4          1  ...      0.0      0.0    0.0  0.0  0.0   \n",
       "3      HI  Junior Seat          0  ...      0.0      0.0    0.0  0.0  0.0   \n",
       "4      CO  Senior Seat          0  ...      0.0      0.0    0.0  0.0  0.0   \n",
       "\n",
       "  zoberman zone  zones  zoo  zuni  \n",
       "0      0.0  0.0    0.0  0.0   0.0  \n",
       "1      0.0  0.0    0.0  0.0   0.0  \n",
       "2      0.0  0.0    0.0  0.0   0.0  \n",
       "3      0.0  0.0    0.0  0.0   0.0  \n",
       "4      0.0  0.0    0.0  0.0   0.0  \n",
       "\n",
       "[5 rows x 14450 columns]"
      ]
     },
     "execution_count": 25,
     "metadata": {},
     "output_type": "execute_result"
    }
   ],
   "source": [
    "capitol_words.head()"
   ]
  },
  {
   "cell_type": "code",
   "execution_count": 26,
   "metadata": {
    "collapsed": false
   },
   "outputs": [],
   "source": [
    "del capitol_words[\"a\"]\n",
    "column_names_capitol = capitol_words.columns.tolist()\n",
    "word_column_names = column_names_capitol[806:]\n",
    "number_column_names = column_names_capitol[30:805]"
   ]
  },
  {
   "cell_type": "code",
   "execution_count": 27,
   "metadata": {
    "collapsed": false
   },
   "outputs": [
    {
     "data": {
      "text/html": [
       "<div>\n",
       "<table border=\"1\" class=\"dataframe\">\n",
       "  <thead>\n",
       "    <tr style=\"text-align: right;\">\n",
       "      <th></th>\n",
       "      <th>a&amp;m</th>\n",
       "      <th>a-plus</th>\n",
       "      <th>a.</th>\n",
       "      <th>a.d.</th>\n",
       "      <th>a.m.</th>\n",
       "      <th>a.m.e.</th>\n",
       "      <th>aaa</th>\n",
       "      <th>aacute</th>\n",
       "      <th>aahsa</th>\n",
       "      <th>aamodt</th>\n",
       "      <th>...</th>\n",
       "      <th>ziegler</th>\n",
       "      <th>zimbabwe</th>\n",
       "      <th>zimmer</th>\n",
       "      <th>zinc</th>\n",
       "      <th>zion</th>\n",
       "      <th>zoberman</th>\n",
       "      <th>zone</th>\n",
       "      <th>zones</th>\n",
       "      <th>zoo</th>\n",
       "      <th>zuni</th>\n",
       "    </tr>\n",
       "  </thead>\n",
       "  <tbody>\n",
       "    <tr>\n",
       "      <th>0</th>\n",
       "      <td>0.0</td>\n",
       "      <td>0.0</td>\n",
       "      <td>0.0</td>\n",
       "      <td>0.0</td>\n",
       "      <td>0.000000</td>\n",
       "      <td>0.0</td>\n",
       "      <td>0.0</td>\n",
       "      <td>0.0</td>\n",
       "      <td>0.0</td>\n",
       "      <td>0.0</td>\n",
       "      <td>...</td>\n",
       "      <td>0.0</td>\n",
       "      <td>0.0</td>\n",
       "      <td>0.0</td>\n",
       "      <td>0.0</td>\n",
       "      <td>0.0</td>\n",
       "      <td>0.0</td>\n",
       "      <td>0.0</td>\n",
       "      <td>0.0</td>\n",
       "      <td>0.0</td>\n",
       "      <td>0.0</td>\n",
       "    </tr>\n",
       "    <tr>\n",
       "      <th>1</th>\n",
       "      <td>0.0</td>\n",
       "      <td>0.0</td>\n",
       "      <td>0.0</td>\n",
       "      <td>0.0</td>\n",
       "      <td>0.000000</td>\n",
       "      <td>0.0</td>\n",
       "      <td>0.0</td>\n",
       "      <td>0.0</td>\n",
       "      <td>0.0</td>\n",
       "      <td>0.0</td>\n",
       "      <td>...</td>\n",
       "      <td>0.0</td>\n",
       "      <td>0.0</td>\n",
       "      <td>0.0</td>\n",
       "      <td>0.0</td>\n",
       "      <td>0.0</td>\n",
       "      <td>0.0</td>\n",
       "      <td>0.0</td>\n",
       "      <td>0.0</td>\n",
       "      <td>0.0</td>\n",
       "      <td>0.0</td>\n",
       "    </tr>\n",
       "    <tr>\n",
       "      <th>2</th>\n",
       "      <td>0.0</td>\n",
       "      <td>0.0</td>\n",
       "      <td>0.0</td>\n",
       "      <td>0.0</td>\n",
       "      <td>0.000000</td>\n",
       "      <td>0.0</td>\n",
       "      <td>0.0</td>\n",
       "      <td>0.0</td>\n",
       "      <td>0.0</td>\n",
       "      <td>0.0</td>\n",
       "      <td>...</td>\n",
       "      <td>0.0</td>\n",
       "      <td>0.0</td>\n",
       "      <td>0.0</td>\n",
       "      <td>0.0</td>\n",
       "      <td>0.0</td>\n",
       "      <td>0.0</td>\n",
       "      <td>0.0</td>\n",
       "      <td>0.0</td>\n",
       "      <td>0.0</td>\n",
       "      <td>0.0</td>\n",
       "    </tr>\n",
       "    <tr>\n",
       "      <th>3</th>\n",
       "      <td>0.0</td>\n",
       "      <td>0.0</td>\n",
       "      <td>0.0</td>\n",
       "      <td>0.0</td>\n",
       "      <td>0.000000</td>\n",
       "      <td>0.0</td>\n",
       "      <td>0.0</td>\n",
       "      <td>0.0</td>\n",
       "      <td>0.0</td>\n",
       "      <td>0.0</td>\n",
       "      <td>...</td>\n",
       "      <td>0.0</td>\n",
       "      <td>0.0</td>\n",
       "      <td>0.0</td>\n",
       "      <td>0.0</td>\n",
       "      <td>0.0</td>\n",
       "      <td>0.0</td>\n",
       "      <td>0.0</td>\n",
       "      <td>0.0</td>\n",
       "      <td>0.0</td>\n",
       "      <td>0.0</td>\n",
       "    </tr>\n",
       "    <tr>\n",
       "      <th>4</th>\n",
       "      <td>0.0</td>\n",
       "      <td>0.0</td>\n",
       "      <td>0.0</td>\n",
       "      <td>0.0</td>\n",
       "      <td>0.096384</td>\n",
       "      <td>0.0</td>\n",
       "      <td>0.0</td>\n",
       "      <td>0.0</td>\n",
       "      <td>0.0</td>\n",
       "      <td>0.0</td>\n",
       "      <td>...</td>\n",
       "      <td>0.0</td>\n",
       "      <td>0.0</td>\n",
       "      <td>0.0</td>\n",
       "      <td>0.0</td>\n",
       "      <td>0.0</td>\n",
       "      <td>0.0</td>\n",
       "      <td>0.0</td>\n",
       "      <td>0.0</td>\n",
       "      <td>0.0</td>\n",
       "      <td>0.0</td>\n",
       "    </tr>\n",
       "  </tbody>\n",
       "</table>\n",
       "<p>5 rows × 13643 columns</p>\n",
       "</div>"
      ],
      "text/plain": [
       "   a&m  a-plus   a.  a.d.      a.m.  a.m.e.  aaa  aacute  aahsa  aamodt  ...   \\\n",
       "0  0.0     0.0  0.0   0.0  0.000000     0.0  0.0     0.0    0.0     0.0  ...    \n",
       "1  0.0     0.0  0.0   0.0  0.000000     0.0  0.0     0.0    0.0     0.0  ...    \n",
       "2  0.0     0.0  0.0   0.0  0.000000     0.0  0.0     0.0    0.0     0.0  ...    \n",
       "3  0.0     0.0  0.0   0.0  0.000000     0.0  0.0     0.0    0.0     0.0  ...    \n",
       "4  0.0     0.0  0.0   0.0  0.096384     0.0  0.0     0.0    0.0     0.0  ...    \n",
       "\n",
       "   ziegler  zimbabwe  zimmer  zinc  zion  zoberman  zone  zones  zoo  zuni  \n",
       "0      0.0       0.0     0.0   0.0   0.0       0.0   0.0    0.0  0.0   0.0  \n",
       "1      0.0       0.0     0.0   0.0   0.0       0.0   0.0    0.0  0.0   0.0  \n",
       "2      0.0       0.0     0.0   0.0   0.0       0.0   0.0    0.0  0.0   0.0  \n",
       "3      0.0       0.0     0.0   0.0   0.0       0.0   0.0    0.0  0.0   0.0  \n",
       "4      0.0       0.0     0.0   0.0   0.0       0.0   0.0    0.0  0.0   0.0  \n",
       "\n",
       "[5 rows x 13643 columns]"
      ]
     },
     "execution_count": 27,
     "metadata": {},
     "output_type": "execute_result"
    }
   ],
   "source": [
    "capitol_words[word_column_names].head()"
   ]
  },
  {
   "cell_type": "code",
   "execution_count": 28,
   "metadata": {
    "collapsed": false
   },
   "outputs": [
    {
     "data": {
      "text/plain": [
       "12.815564347877871"
      ]
     },
     "execution_count": 28,
     "metadata": {},
     "output_type": "execute_result"
    }
   ],
   "source": [
    "capitol_words[word_column_names].sum().max()"
   ]
  },
  {
   "cell_type": "markdown",
   "metadata": {},
   "source": [
    "### Now I will make another DataFrame removing the words with the max counts\n"
   ]
  }
 ],
 "metadata": {
  "kernelspec": {
   "display_name": "Python 2",
   "language": "python",
   "name": "python2"
  },
  "language_info": {
   "codemirror_mode": {
    "name": "ipython",
    "version": 2
   },
   "file_extension": ".py",
   "mimetype": "text/x-python",
   "name": "python",
   "nbconvert_exporter": "python",
   "pygments_lexer": "ipython2",
   "version": "2.7.11"
  }
 },
 "nbformat": 4,
 "nbformat_minor": 0
}

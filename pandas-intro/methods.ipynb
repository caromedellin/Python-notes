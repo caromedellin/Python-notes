{
 "cells": [
  {
   "cell_type": "markdown",
   "metadata": {},
   "source": [
    "# Useful methods that I am writting for myself"
   ]
  },
  {
   "cell_type": "markdown",
   "metadata": {},
   "source": [
    "## Mask for a data frame, any data frame"
   ]
  },
  {
   "cell_type": "code",
   "execution_count": null,
   "metadata": {
    "collapsed": true
   },
   "outputs": [],
   "source": [
    "def my_mask(df,column,condition,value):\n",
    "    new_data = []\n",
    "    if condition == \"==\":\n",
    "        new_data = df[df[column] == value]\n",
    "    elif condition == \"<=\":\n",
    "        new_data = df[df[column] <= value]\n",
    "    elif condition == \"!=\":\n",
    "        new_data = df[df[column] != value]\n",
    "    elif condition == \">=\":\n",
    "        new_data = df[df[column] >= value]\n",
    "    elif condition == \">\":\n",
    "        new_data = df[df[column] > value]\n",
    "    elif condition == \"<\":\n",
    "        new_data = df[df[column] < value]\n",
    "    else:\n",
    "        print \"arguments needed-column,condition,value-:\"\n",
    "    return new_data "
   ]
  },
  {
   "cell_type": "code",
   "execution_count": null,
   "metadata": {
    "collapsed": true
   },
   "outputs": [],
   "source": []
  }
 ],
 "metadata": {
  "kernelspec": {
   "display_name": "Python 2",
   "language": "python",
   "name": "python2"
  },
  "language_info": {
   "codemirror_mode": {
    "name": "ipython",
    "version": 2
   },
   "file_extension": ".py",
   "mimetype": "text/x-python",
   "name": "python",
   "nbconvert_exporter": "python",
   "pygments_lexer": "ipython2",
   "version": "2.7.11"
  }
 },
 "nbformat": 4,
 "nbformat_minor": 0
}
